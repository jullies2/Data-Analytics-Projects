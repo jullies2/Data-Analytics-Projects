{
 "cells": [
  {
   "cell_type": "markdown",
   "metadata": {},
   "source": [
    "Total Vehicle Crashes in New York (2012-2023)\n",
    "A quick view in New York vehicle crashes\n",
    "\n",
    "About Dataset\n",
    "The Motor Vehicle Collisions crash table contains details on the crash event. Each row represents a crash event. The Motor Vehicle Collisions data tables contain information from all police reported motor vehicle collisions in NYC. The police report (MV104-AN) is required to be filled out for collisions where someone is injured or killed, or where there is at least $1000 worth of damage."
   ]
  },
  {
   "cell_type": "code",
   "execution_count": 2,
   "metadata": {},
   "outputs": [
    {
     "data": {
      "text/plain": [
       "<Figure size 900x600 with 0 Axes>"
      ]
     },
     "metadata": {},
     "output_type": "display_data"
    }
   ],
   "source": [
    "import pandas as pd\n",
    "import matplotlib.pyplot as plt\n",
    "import seaborn as sns\n",
    "\n",
    "plt.figure(figsize=(9,6))\n",
    "%matplotlib inline"
   ]
  },
  {
   "cell_type": "code",
   "execution_count": 3,
   "metadata": {},
   "outputs": [
    {
     "name": "stderr",
     "output_type": "stream",
     "text": [
      "C:\\Users\\jss12\\AppData\\Local\\Temp\\ipykernel_11148\\2623182133.py:2: DtypeWarning: Columns (3) have mixed types. Specify dtype option on import or set low_memory=False.\n",
      "  df = pd.read_csv(\"~/desktop/pandas_pr/VehicleCrashesNY/NYC.csv\")\n"
     ]
    }
   ],
   "source": [
    "#Загружаем датасет\n",
    "df = pd.read_csv(\"~/desktop/pandas_pr/VehicleCrashesNY/NYC.csv\")"
   ]
  },
  {
   "cell_type": "code",
   "execution_count": 4,
   "metadata": {},
   "outputs": [
    {
     "name": "stdout",
     "output_type": "stream",
     "text": [
      "<class 'pandas.core.frame.DataFrame'>\n",
      "RangeIndex: 2014209 entries, 0 to 2014208\n",
      "Data columns (total 22 columns):\n",
      " #   Column                         Dtype  \n",
      "---  ------                         -----  \n",
      " 0   CRASH DATE                     object \n",
      " 1   CRASH TIME                     object \n",
      " 2   BOROUGH                        object \n",
      " 3   ZIP CODE                       object \n",
      " 4   LATITUDE                       float64\n",
      " 5   LONGITUDE                      float64\n",
      " 6   LOCATION                       object \n",
      " 7   ON STREET NAME                 object \n",
      " 8   CROSS STREET NAME              object \n",
      " 9   NUMBER OF PERSONS INJURED      float64\n",
      " 10  NUMBER OF PERSONS KILLED       float64\n",
      " 11  NUMBER OF PEDESTRIANS INJURED  int64  \n",
      " 12  NUMBER OF PEDESTRIANS KILLED   int64  \n",
      " 13  NUMBER OF CYCLIST INJURED      int64  \n",
      " 14  NUMBER OF CYCLIST KILLED       int64  \n",
      " 15  NUMBER OF MOTORIST INJURED     int64  \n",
      " 16  NUMBER OF MOTORIST KILLED      int64  \n",
      " 17  CONTRIBUTING FACTOR VEHICLE 1  object \n",
      " 18  CONTRIBUTING FACTOR VEHICLE 2  object \n",
      " 19  COLLISION_ID                   int64  \n",
      " 20  VEHICLE TYPE CODE 1            object \n",
      " 21  VEHICLE TYPE CODE 2            object \n",
      "dtypes: float64(4), int64(7), object(11)\n",
      "memory usage: 338.1+ MB\n"
     ]
    }
   ],
   "source": [
    "#Просмотр типов данных всех столбцов с данными\n",
    "df.info()"
   ]
  },
  {
   "cell_type": "code",
   "execution_count": 5,
   "metadata": {},
   "outputs": [
    {
     "data": {
      "text/plain": [
       "(2014209, 22)"
      ]
     },
     "execution_count": 5,
     "metadata": {},
     "output_type": "execute_result"
    }
   ],
   "source": [
    "#Размер датафрейма\n",
    "df.shape"
   ]
  },
  {
   "cell_type": "code",
   "execution_count": 6,
   "metadata": {},
   "outputs": [
    {
     "data": {
      "text/html": [
       "<div>\n",
       "<style scoped>\n",
       "    .dataframe tbody tr th:only-of-type {\n",
       "        vertical-align: middle;\n",
       "    }\n",
       "\n",
       "    .dataframe tbody tr th {\n",
       "        vertical-align: top;\n",
       "    }\n",
       "\n",
       "    .dataframe thead th {\n",
       "        text-align: right;\n",
       "    }\n",
       "</style>\n",
       "<table border=\"1\" class=\"dataframe\">\n",
       "  <thead>\n",
       "    <tr style=\"text-align: right;\">\n",
       "      <th></th>\n",
       "      <th>CRASH DATE</th>\n",
       "      <th>CRASH TIME</th>\n",
       "      <th>BOROUGH</th>\n",
       "      <th>ZIP CODE</th>\n",
       "      <th>LATITUDE</th>\n",
       "      <th>LONGITUDE</th>\n",
       "      <th>LOCATION</th>\n",
       "      <th>ON STREET NAME</th>\n",
       "      <th>CROSS STREET NAME</th>\n",
       "      <th>NUMBER OF PERSONS INJURED</th>\n",
       "      <th>...</th>\n",
       "      <th>NUMBER OF PEDESTRIANS KILLED</th>\n",
       "      <th>NUMBER OF CYCLIST INJURED</th>\n",
       "      <th>NUMBER OF CYCLIST KILLED</th>\n",
       "      <th>NUMBER OF MOTORIST INJURED</th>\n",
       "      <th>NUMBER OF MOTORIST KILLED</th>\n",
       "      <th>CONTRIBUTING FACTOR VEHICLE 1</th>\n",
       "      <th>CONTRIBUTING FACTOR VEHICLE 2</th>\n",
       "      <th>COLLISION_ID</th>\n",
       "      <th>VEHICLE TYPE CODE 1</th>\n",
       "      <th>VEHICLE TYPE CODE 2</th>\n",
       "    </tr>\n",
       "  </thead>\n",
       "  <tbody>\n",
       "    <tr>\n",
       "      <th>0</th>\n",
       "      <td>09/11/2021</td>\n",
       "      <td>2:39</td>\n",
       "      <td>NaN</td>\n",
       "      <td>NaN</td>\n",
       "      <td>NaN</td>\n",
       "      <td>NaN</td>\n",
       "      <td>NaN</td>\n",
       "      <td>WHITESTONE EXPRESSWAY</td>\n",
       "      <td>20 AVENUE</td>\n",
       "      <td>2.0</td>\n",
       "      <td>...</td>\n",
       "      <td>0</td>\n",
       "      <td>0</td>\n",
       "      <td>0</td>\n",
       "      <td>2</td>\n",
       "      <td>0</td>\n",
       "      <td>Aggressive Driving/Road Rage</td>\n",
       "      <td>Unspecified</td>\n",
       "      <td>4455765</td>\n",
       "      <td>Sedan</td>\n",
       "      <td>Sedan</td>\n",
       "    </tr>\n",
       "    <tr>\n",
       "      <th>1</th>\n",
       "      <td>03/26/2022</td>\n",
       "      <td>11:45</td>\n",
       "      <td>NaN</td>\n",
       "      <td>NaN</td>\n",
       "      <td>NaN</td>\n",
       "      <td>NaN</td>\n",
       "      <td>NaN</td>\n",
       "      <td>QUEENSBORO BRIDGE UPPER</td>\n",
       "      <td>NaN</td>\n",
       "      <td>1.0</td>\n",
       "      <td>...</td>\n",
       "      <td>0</td>\n",
       "      <td>0</td>\n",
       "      <td>0</td>\n",
       "      <td>1</td>\n",
       "      <td>0</td>\n",
       "      <td>Pavement Slippery</td>\n",
       "      <td>NaN</td>\n",
       "      <td>4513547</td>\n",
       "      <td>Sedan</td>\n",
       "      <td>NaN</td>\n",
       "    </tr>\n",
       "    <tr>\n",
       "      <th>2</th>\n",
       "      <td>06/29/2022</td>\n",
       "      <td>6:55</td>\n",
       "      <td>NaN</td>\n",
       "      <td>NaN</td>\n",
       "      <td>NaN</td>\n",
       "      <td>NaN</td>\n",
       "      <td>NaN</td>\n",
       "      <td>THROGS NECK BRIDGE</td>\n",
       "      <td>NaN</td>\n",
       "      <td>0.0</td>\n",
       "      <td>...</td>\n",
       "      <td>0</td>\n",
       "      <td>0</td>\n",
       "      <td>0</td>\n",
       "      <td>0</td>\n",
       "      <td>0</td>\n",
       "      <td>Following Too Closely</td>\n",
       "      <td>Unspecified</td>\n",
       "      <td>4541903</td>\n",
       "      <td>Sedan</td>\n",
       "      <td>Pick-up Truck</td>\n",
       "    </tr>\n",
       "    <tr>\n",
       "      <th>3</th>\n",
       "      <td>09/11/2021</td>\n",
       "      <td>9:35</td>\n",
       "      <td>BROOKLYN</td>\n",
       "      <td>11208.0</td>\n",
       "      <td>40.667202</td>\n",
       "      <td>-73.866500</td>\n",
       "      <td>(40.667202, -73.8665)</td>\n",
       "      <td>NaN</td>\n",
       "      <td>NaN</td>\n",
       "      <td>0.0</td>\n",
       "      <td>...</td>\n",
       "      <td>0</td>\n",
       "      <td>0</td>\n",
       "      <td>0</td>\n",
       "      <td>0</td>\n",
       "      <td>0</td>\n",
       "      <td>Unspecified</td>\n",
       "      <td>NaN</td>\n",
       "      <td>4456314</td>\n",
       "      <td>Sedan</td>\n",
       "      <td>NaN</td>\n",
       "    </tr>\n",
       "    <tr>\n",
       "      <th>4</th>\n",
       "      <td>12/14/2021</td>\n",
       "      <td>8:13</td>\n",
       "      <td>BROOKLYN</td>\n",
       "      <td>11233.0</td>\n",
       "      <td>40.683304</td>\n",
       "      <td>-73.917274</td>\n",
       "      <td>(40.683304, -73.917274)</td>\n",
       "      <td>SARATOGA AVENUE</td>\n",
       "      <td>DECATUR STREET</td>\n",
       "      <td>0.0</td>\n",
       "      <td>...</td>\n",
       "      <td>0</td>\n",
       "      <td>0</td>\n",
       "      <td>0</td>\n",
       "      <td>0</td>\n",
       "      <td>0</td>\n",
       "      <td>NaN</td>\n",
       "      <td>NaN</td>\n",
       "      <td>4486609</td>\n",
       "      <td>NaN</td>\n",
       "      <td>NaN</td>\n",
       "    </tr>\n",
       "  </tbody>\n",
       "</table>\n",
       "<p>5 rows × 22 columns</p>\n",
       "</div>"
      ],
      "text/plain": [
       "   CRASH DATE CRASH TIME   BOROUGH ZIP CODE   LATITUDE  LONGITUDE  \\\n",
       "0  09/11/2021       2:39       NaN      NaN        NaN        NaN   \n",
       "1  03/26/2022      11:45       NaN      NaN        NaN        NaN   \n",
       "2  06/29/2022       6:55       NaN      NaN        NaN        NaN   \n",
       "3  09/11/2021       9:35  BROOKLYN  11208.0  40.667202 -73.866500   \n",
       "4  12/14/2021       8:13  BROOKLYN  11233.0  40.683304 -73.917274   \n",
       "\n",
       "                  LOCATION           ON STREET NAME CROSS STREET NAME  \\\n",
       "0                      NaN    WHITESTONE EXPRESSWAY         20 AVENUE   \n",
       "1                      NaN  QUEENSBORO BRIDGE UPPER               NaN   \n",
       "2                      NaN       THROGS NECK BRIDGE               NaN   \n",
       "3    (40.667202, -73.8665)                      NaN               NaN   \n",
       "4  (40.683304, -73.917274)          SARATOGA AVENUE    DECATUR STREET   \n",
       "\n",
       "   NUMBER OF PERSONS INJURED  ...  NUMBER OF PEDESTRIANS KILLED  \\\n",
       "0                        2.0  ...                             0   \n",
       "1                        1.0  ...                             0   \n",
       "2                        0.0  ...                             0   \n",
       "3                        0.0  ...                             0   \n",
       "4                        0.0  ...                             0   \n",
       "\n",
       "   NUMBER OF CYCLIST INJURED  NUMBER OF CYCLIST KILLED  \\\n",
       "0                          0                         0   \n",
       "1                          0                         0   \n",
       "2                          0                         0   \n",
       "3                          0                         0   \n",
       "4                          0                         0   \n",
       "\n",
       "   NUMBER OF MOTORIST INJURED  NUMBER OF MOTORIST KILLED  \\\n",
       "0                           2                          0   \n",
       "1                           1                          0   \n",
       "2                           0                          0   \n",
       "3                           0                          0   \n",
       "4                           0                          0   \n",
       "\n",
       "   CONTRIBUTING FACTOR VEHICLE 1  CONTRIBUTING FACTOR VEHICLE 2 COLLISION_ID  \\\n",
       "0   Aggressive Driving/Road Rage                    Unspecified      4455765   \n",
       "1              Pavement Slippery                            NaN      4513547   \n",
       "2          Following Too Closely                    Unspecified      4541903   \n",
       "3                    Unspecified                            NaN      4456314   \n",
       "4                            NaN                            NaN      4486609   \n",
       "\n",
       "  VEHICLE TYPE CODE 1  VEHICLE TYPE CODE 2  \n",
       "0               Sedan                Sedan  \n",
       "1               Sedan                  NaN  \n",
       "2               Sedan        Pick-up Truck  \n",
       "3               Sedan                  NaN  \n",
       "4                 NaN                  NaN  \n",
       "\n",
       "[5 rows x 22 columns]"
      ]
     },
     "execution_count": 6,
     "metadata": {},
     "output_type": "execute_result"
    }
   ],
   "source": [
    "df.head()"
   ]
  },
  {
   "cell_type": "code",
   "execution_count": 7,
   "metadata": {},
   "outputs": [
    {
     "data": {
      "text/plain": [
       "Index(['crash_date', 'crash_time', 'borough', 'zip_code', 'latitude',\n",
       "       'longitude', 'location', 'on_street_name', 'cross_street_name',\n",
       "       'number_of_persons_injured', 'number_of_persons_killed',\n",
       "       'number_of_pedestrians_injured', 'number_of_pedestrians_killed',\n",
       "       'number_of_cyclist_injured', 'number_of_cyclist_killed',\n",
       "       'number_of_motorist_injured', 'number_of_motorist_killed',\n",
       "       'contributing_factor_vehicle_1', 'contributing_factor_vehicle_2',\n",
       "       'collision_id', 'vehicle_type_code_1', 'vehicle_type_code_2'],\n",
       "      dtype='object')"
      ]
     },
     "execution_count": 7,
     "metadata": {},
     "output_type": "execute_result"
    }
   ],
   "source": [
    "#Переименование названий столбцов датафрейма\n",
    "df.columns = df.columns.str.lower().str.replace(' ', '_')\n",
    "df.columns"
   ]
  },
  {
   "cell_type": "code",
   "execution_count": 8,
   "metadata": {},
   "outputs": [],
   "source": [
    "df.crash_date = pd.to_datetime(df.crash_date).dt.year"
   ]
  },
  {
   "cell_type": "markdown",
   "metadata": {},
   "source": []
  },
  {
   "cell_type": "code",
   "execution_count": 9,
   "metadata": {},
   "outputs": [
    {
     "data": {
      "text/plain": [
       "<Axes: xlabel='crash_date', ylabel='cnt_crushes'>"
      ]
     },
     "execution_count": 9,
     "metadata": {},
     "output_type": "execute_result"
    },
    {
     "data": {
      "image/png": "[encoded data removed]",
      "text/plain": [
       "<Figure size 1000x600 with 1 Axes>"
      ]
     },
     "metadata": {},
     "output_type": "display_data"
    }
   ],
   "source": [
    "#Число аварий зафиксированных через протокол полици за каждый год  \n",
    "plt.figure(figsize=(10,6))\n",
    "sns.barplot(data = df.groupby('crash_date').agg({'crash_time':'count'}).rename(columns={'crash_time':'cnt_crushes'}).reset_index(), x = 'crash_date', y = 'cnt_crushes')"
   ]
  },
  {
   "cell_type": "markdown",
   "metadata": {},
   "source": [
    "Из графика видно, что количество аварий в 2020 году сократилось почти в два раз, а в 2013 количество аварий увеличилось в 2 раза, по сравнению с 2012. Такое падение в 2020 можно объяснить введением ограничений и локдауна в Нью-Йорке из за вируса COVID-19."
   ]
  },
  {
   "cell_type": "code",
   "execution_count": 10,
   "metadata": {},
   "outputs": [
    {
     "data": {
      "text/html": [
       "<div>\n",
       "<style scoped>\n",
       "    .dataframe tbody tr th:only-of-type {\n",
       "        vertical-align: middle;\n",
       "    }\n",
       "\n",
       "    .dataframe tbody tr th {\n",
       "        vertical-align: top;\n",
       "    }\n",
       "\n",
       "    .dataframe thead th {\n",
       "        text-align: right;\n",
       "    }\n",
       "</style>\n",
       "<table border=\"1\" class=\"dataframe\">\n",
       "  <thead>\n",
       "    <tr style=\"text-align: right;\">\n",
       "      <th></th>\n",
       "      <th>crash_date</th>\n",
       "      <th>vh_cnt</th>\n",
       "      <th>contributing_factor_vehicle_1</th>\n",
       "    </tr>\n",
       "  </thead>\n",
       "  <tbody>\n",
       "    <tr>\n",
       "      <th>0</th>\n",
       "      <td>2012</td>\n",
       "      <td>10408</td>\n",
       "      <td>Driver Inattention/Distraction</td>\n",
       "    </tr>\n",
       "    <tr>\n",
       "      <th>1</th>\n",
       "      <td>2013</td>\n",
       "      <td>22321</td>\n",
       "      <td>Driver Inattention/Distraction</td>\n",
       "    </tr>\n",
       "    <tr>\n",
       "      <th>2</th>\n",
       "      <td>2014</td>\n",
       "      <td>24792</td>\n",
       "      <td>Driver Inattention/Distraction</td>\n",
       "    </tr>\n",
       "    <tr>\n",
       "      <th>3</th>\n",
       "      <td>2015</td>\n",
       "      <td>32028</td>\n",
       "      <td>Driver Inattention/Distraction</td>\n",
       "    </tr>\n",
       "    <tr>\n",
       "      <th>4</th>\n",
       "      <td>2016</td>\n",
       "      <td>49283</td>\n",
       "      <td>Driver Inattention/Distraction</td>\n",
       "    </tr>\n",
       "    <tr>\n",
       "      <th>5</th>\n",
       "      <td>2017</td>\n",
       "      <td>54392</td>\n",
       "      <td>Driver Inattention/Distraction</td>\n",
       "    </tr>\n",
       "    <tr>\n",
       "      <th>6</th>\n",
       "      <td>2018</td>\n",
       "      <td>57069</td>\n",
       "      <td>Driver Inattention/Distraction</td>\n",
       "    </tr>\n",
       "    <tr>\n",
       "      <th>7</th>\n",
       "      <td>2019</td>\n",
       "      <td>55186</td>\n",
       "      <td>Driver Inattention/Distraction</td>\n",
       "    </tr>\n",
       "    <tr>\n",
       "      <th>8</th>\n",
       "      <td>2020</td>\n",
       "      <td>28627</td>\n",
       "      <td>Driver Inattention/Distraction</td>\n",
       "    </tr>\n",
       "    <tr>\n",
       "      <th>9</th>\n",
       "      <td>2021</td>\n",
       "      <td>26508</td>\n",
       "      <td>Driver Inattention/Distraction</td>\n",
       "    </tr>\n",
       "    <tr>\n",
       "      <th>10</th>\n",
       "      <td>2022</td>\n",
       "      <td>25843</td>\n",
       "      <td>Driver Inattention/Distraction</td>\n",
       "    </tr>\n",
       "    <tr>\n",
       "      <th>11</th>\n",
       "      <td>2023</td>\n",
       "      <td>13846</td>\n",
       "      <td>Driver Inattention/Distraction</td>\n",
       "    </tr>\n",
       "  </tbody>\n",
       "</table>\n",
       "</div>"
      ],
      "text/plain": [
       "    crash_date  vh_cnt   contributing_factor_vehicle_1\n",
       "0         2012   10408  Driver Inattention/Distraction\n",
       "1         2013   22321  Driver Inattention/Distraction\n",
       "2         2014   24792  Driver Inattention/Distraction\n",
       "3         2015   32028  Driver Inattention/Distraction\n",
       "4         2016   49283  Driver Inattention/Distraction\n",
       "5         2017   54392  Driver Inattention/Distraction\n",
       "6         2018   57069  Driver Inattention/Distraction\n",
       "7         2019   55186  Driver Inattention/Distraction\n",
       "8         2020   28627  Driver Inattention/Distraction\n",
       "9         2021   26508  Driver Inattention/Distraction\n",
       "10        2022   25843  Driver Inattention/Distraction\n",
       "11        2023   13846  Driver Inattention/Distraction"
      ]
     },
     "execution_count": 10,
     "metadata": {},
     "output_type": "execute_result"
    }
   ],
   "source": [
    "# Самая распространенная причина аварий в городе, котороые вносятися в протокол MV-104AN за каждый год\n",
    "dff = df.groupby(['crash_date', 'contributing_factor_vehicle_1']).agg({'collision_id':'count'}).reset_index().query('contributing_factor_vehicle_1 != \"Unspecified\" and contributing_factor_vehicle_1 != \"Other Vehicular\"').rename(columns={'collision_id':'vh_cnt'})\n",
    "dff.groupby('crash_date')[['vh_cnt']].max().reset_index().merge(dff)"
   ]
  },
  {
   "cell_type": "markdown",
   "metadata": {},
   "source": [
    "Чаще всего аварии случаются из-за невнимательности водителей"
   ]
  },
  {
   "cell_type": "code",
   "execution_count": 11,
   "metadata": {},
   "outputs": [
    {
     "data": {
      "text/plain": [
       "<Axes: xlabel='crash_date', ylabel='vh_cnt'>"
      ]
     },
     "execution_count": 11,
     "metadata": {},
     "output_type": "execute_result"
    },
    {
     "data": {
      "image/png": "[encoded data removed]",
      "text/plain": [
       "<Figure size 2000x500 with 1 Axes>"
      ]
     },
     "metadata": {},
     "output_type": "display_data"
    }
   ],
   "source": [
    "# Топ-3 самых распространенных причины аварий за каждый год, включая невнимательность водителей\n",
    "plt.figure(figsize=(20,5))\n",
    "plot = dff.merge(dff.groupby('crash_date').vh_cnt.sum().reset_index().rename(columns = {'vh_cnt':'cnt_crashes_by_year'})).groupby('crash_date').apply(lambda x: x.sort_values(by = 'vh_cnt', ascending=False).head(3).reset_index(drop=True)).reset_index(drop=True)\n",
    "sns.barplot(data = plot, x = 'crash_date', y = 'vh_cnt', hue = 'contributing_factor_vehicle_1')"
   ]
  },
  {
   "cell_type": "code",
   "execution_count": 12,
   "metadata": {},
   "outputs": [
    {
     "data": {
      "text/plain": [
       "<Axes: xlabel='vehicle_type_code', ylabel='count_of_crashes'>"
      ]
     },
     "execution_count": 12,
     "metadata": {},
     "output_type": "execute_result"
    },
    {
     "data": {
      "image/png": "[encoded data removed]",
      "text/plain": [
       "<Figure size 640x480 with 1 Axes>"
      ]
     },
     "metadata": {},
     "output_type": "display_data"
    }
   ],
   "source": [
    "# Число аварий, в которые попадали машины скорой помощи и пожарные машины с 2012 по 2023\n",
    "df.loc[:, 'vehicle_type_code_1'] = df.vehicle_type_code_1.str.lower() \n",
    "df.loc[:, 'vehicle_type_code_2'] = df.vehicle_type_code_2.str.lower()\n",
    "amb_fire_df = pd.concat([df.query('vehicle_type_code_1 == \"ambulance\" or vehicle_type_code_1 == \"fire truck\"')[['vehicle_type_code_1','crash_date', 'collision_id']].rename(columns={'vehicle_type_code_1':'vehicle_type_code'}), df.query('(vehicle_type_code_2 == \"ambulance\" or vehicle_type_code_2 == \"fire truck\") and (vehicle_type_code_1 != \"ambulance\" or vehicle_type_code_1 != \"fire truck\")')[['vehicle_type_code_2','crash_date', 'collision_id']].rename(columns={'vehicle_type_code_2':'vehicle_type_code'})])\n",
    "sns.barplot(data = amb_fire_df.groupby('vehicle_type_code').agg({'crash_date':'count'}).reset_index().rename(columns={'crash_date':'count_of_crashes'}), x='vehicle_type_code', y='count_of_crashes')\n"
   ]
  },
  {
   "cell_type": "markdown",
   "metadata": {},
   "source": [
    "Из графика видно, что машины скорой помощи попадают в аварии примерно в 5 раз чаще, чем пожарные машины. Посмотрим число аварий у служб спасения по годам"
   ]
  },
  {
   "cell_type": "code",
   "execution_count": 13,
   "metadata": {},
   "outputs": [
    {
     "data": {
      "text/plain": [
       "<Axes: xlabel='crash_date', ylabel='count_of_crashes'>"
      ]
     },
     "execution_count": 13,
     "metadata": {},
     "output_type": "execute_result"
    },
    {
     "data": {
      "image/png": "[encoded data removed]",
      "text/plain": [
       "<Figure size 640x480 with 1 Axes>"
      ]
     },
     "metadata": {},
     "output_type": "display_data"
    }
   ],
   "source": [
    "sns.lineplot(data = amb_fire_df.rename(columns={'collision_id':'count_of_crashes'}).groupby(['vehicle_type_code', 'crash_date']).agg({'count_of_crashes':'count'}), x = 'crash_date', hue = 'vehicle_type_code', y='count_of_crashes')"
   ]
  },
  {
   "cell_type": "code",
   "execution_count": 14,
   "metadata": {},
   "outputs": [
    {
     "data": {
      "text/html": [
       "<div>\n",
       "<style scoped>\n",
       "    .dataframe tbody tr th:only-of-type {\n",
       "        vertical-align: middle;\n",
       "    }\n",
       "\n",
       "    .dataframe tbody tr th {\n",
       "        vertical-align: top;\n",
       "    }\n",
       "\n",
       "    .dataframe thead th {\n",
       "        text-align: right;\n",
       "    }\n",
       "</style>\n",
       "<table border=\"1\" class=\"dataframe\">\n",
       "  <thead>\n",
       "    <tr style=\"text-align: right;\">\n",
       "      <th></th>\n",
       "      <th>crash_date</th>\n",
       "      <th>crash_time</th>\n",
       "      <th>borough</th>\n",
       "      <th>zip_code</th>\n",
       "      <th>latitude</th>\n",
       "      <th>longitude</th>\n",
       "      <th>location</th>\n",
       "      <th>on_street_name</th>\n",
       "      <th>cross_street_name</th>\n",
       "      <th>number_of_persons_injured</th>\n",
       "      <th>...</th>\n",
       "      <th>number_of_pedestrians_killed</th>\n",
       "      <th>number_of_cyclist_injured</th>\n",
       "      <th>number_of_cyclist_killed</th>\n",
       "      <th>number_of_motorist_injured</th>\n",
       "      <th>number_of_motorist_killed</th>\n",
       "      <th>contributing_factor_vehicle_1</th>\n",
       "      <th>contributing_factor_vehicle_2</th>\n",
       "      <th>collision_id</th>\n",
       "      <th>vehicle_type_code_1</th>\n",
       "      <th>vehicle_type_code_2</th>\n",
       "    </tr>\n",
       "  </thead>\n",
       "  <tbody>\n",
       "    <tr>\n",
       "      <th>63</th>\n",
       "      <td>2022</td>\n",
       "      <td>21:40</td>\n",
       "      <td>QUEENS</td>\n",
       "      <td>11418.0</td>\n",
       "      <td>40.695156</td>\n",
       "      <td>-73.845406</td>\n",
       "      <td>(40.695156, -73.845406)</td>\n",
       "      <td>JAMAICA AVENUE</td>\n",
       "      <td>102 STREET</td>\n",
       "      <td>0.0</td>\n",
       "      <td>...</td>\n",
       "      <td>0</td>\n",
       "      <td>0</td>\n",
       "      <td>0</td>\n",
       "      <td>0</td>\n",
       "      <td>0</td>\n",
       "      <td>Reaction to Uninvolved Vehicle</td>\n",
       "      <td>Unspecified</td>\n",
       "      <td>4521858</td>\n",
       "      <td>ambulance</td>\n",
       "      <td>station wagon/sport utility vehicle</td>\n",
       "    </tr>\n",
       "    <tr>\n",
       "      <th>70</th>\n",
       "      <td>2021</td>\n",
       "      <td>12:00</td>\n",
       "      <td>BROOKLYN</td>\n",
       "      <td>11213.0</td>\n",
       "      <td>40.665375</td>\n",
       "      <td>-73.934235</td>\n",
       "      <td>(40.665375, -73.934235)</td>\n",
       "      <td>CROWN STREET</td>\n",
       "      <td>SCHENECTADY AVENUE</td>\n",
       "      <td>0.0</td>\n",
       "      <td>...</td>\n",
       "      <td>0</td>\n",
       "      <td>0</td>\n",
       "      <td>0</td>\n",
       "      <td>0</td>\n",
       "      <td>0</td>\n",
       "      <td>Driver Inattention/Distraction</td>\n",
       "      <td>Driver Inattention/Distraction</td>\n",
       "      <td>4485333</td>\n",
       "      <td>sedan</td>\n",
       "      <td>ambulance</td>\n",
       "    </tr>\n",
       "    <tr>\n",
       "      <th>217</th>\n",
       "      <td>2021</td>\n",
       "      <td>8:30</td>\n",
       "      <td>BRONX</td>\n",
       "      <td>10457.0</td>\n",
       "      <td>40.839443</td>\n",
       "      <td>-73.904360</td>\n",
       "      <td>(40.839443, -73.90436)</td>\n",
       "      <td>NaN</td>\n",
       "      <td>NaN</td>\n",
       "      <td>0.0</td>\n",
       "      <td>...</td>\n",
       "      <td>0</td>\n",
       "      <td>0</td>\n",
       "      <td>0</td>\n",
       "      <td>0</td>\n",
       "      <td>0</td>\n",
       "      <td>Unsafe Lane Changing</td>\n",
       "      <td>Unspecified</td>\n",
       "      <td>4485668</td>\n",
       "      <td>ambulance</td>\n",
       "      <td>sedan</td>\n",
       "    </tr>\n",
       "    <tr>\n",
       "      <th>223</th>\n",
       "      <td>2021</td>\n",
       "      <td>16:07</td>\n",
       "      <td>MANHATTAN</td>\n",
       "      <td>10027.0</td>\n",
       "      <td>40.813885</td>\n",
       "      <td>-73.952110</td>\n",
       "      <td>(40.813885, -73.95211)</td>\n",
       "      <td>NaN</td>\n",
       "      <td>NaN</td>\n",
       "      <td>0.0</td>\n",
       "      <td>...</td>\n",
       "      <td>0</td>\n",
       "      <td>0</td>\n",
       "      <td>0</td>\n",
       "      <td>0</td>\n",
       "      <td>0</td>\n",
       "      <td>Unspecified</td>\n",
       "      <td>Unspecified</td>\n",
       "      <td>4485696</td>\n",
       "      <td>sedan</td>\n",
       "      <td>ambulance</td>\n",
       "    </tr>\n",
       "    <tr>\n",
       "      <th>352</th>\n",
       "      <td>2021</td>\n",
       "      <td>8:00</td>\n",
       "      <td>BROOKLYN</td>\n",
       "      <td>11204.0</td>\n",
       "      <td>40.615780</td>\n",
       "      <td>-73.999950</td>\n",
       "      <td>(40.61578, -73.99995)</td>\n",
       "      <td>BAY RIDGE PARKWAY</td>\n",
       "      <td>NEW UTRECHT AVENUE</td>\n",
       "      <td>0.0</td>\n",
       "      <td>...</td>\n",
       "      <td>0</td>\n",
       "      <td>0</td>\n",
       "      <td>0</td>\n",
       "      <td>0</td>\n",
       "      <td>0</td>\n",
       "      <td>Driver Inattention/Distraction</td>\n",
       "      <td>Unspecified</td>\n",
       "      <td>4455993</td>\n",
       "      <td>ambulance</td>\n",
       "      <td>bike</td>\n",
       "    </tr>\n",
       "    <tr>\n",
       "      <th>...</th>\n",
       "      <td>...</td>\n",
       "      <td>...</td>\n",
       "      <td>...</td>\n",
       "      <td>...</td>\n",
       "      <td>...</td>\n",
       "      <td>...</td>\n",
       "      <td>...</td>\n",
       "      <td>...</td>\n",
       "      <td>...</td>\n",
       "      <td>...</td>\n",
       "      <td>...</td>\n",
       "      <td>...</td>\n",
       "      <td>...</td>\n",
       "      <td>...</td>\n",
       "      <td>...</td>\n",
       "      <td>...</td>\n",
       "      <td>...</td>\n",
       "      <td>...</td>\n",
       "      <td>...</td>\n",
       "      <td>...</td>\n",
       "      <td>...</td>\n",
       "    </tr>\n",
       "    <tr>\n",
       "      <th>2013502</th>\n",
       "      <td>2023</td>\n",
       "      <td>13:40</td>\n",
       "      <td>BROOKLYN</td>\n",
       "      <td>11201.0</td>\n",
       "      <td>40.691120</td>\n",
       "      <td>-73.997550</td>\n",
       "      <td>(40.69112, -73.99755)</td>\n",
       "      <td>NaN</td>\n",
       "      <td>NaN</td>\n",
       "      <td>0.0</td>\n",
       "      <td>...</td>\n",
       "      <td>0</td>\n",
       "      <td>0</td>\n",
       "      <td>0</td>\n",
       "      <td>0</td>\n",
       "      <td>0</td>\n",
       "      <td>Unspecified</td>\n",
       "      <td>Unspecified</td>\n",
       "      <td>4647407</td>\n",
       "      <td>ambulance</td>\n",
       "      <td>ambulance</td>\n",
       "    </tr>\n",
       "    <tr>\n",
       "      <th>2013605</th>\n",
       "      <td>2023</td>\n",
       "      <td>12:30</td>\n",
       "      <td>NaN</td>\n",
       "      <td>NaN</td>\n",
       "      <td>NaN</td>\n",
       "      <td>NaN</td>\n",
       "      <td>NaN</td>\n",
       "      <td>WEST 183 STREET</td>\n",
       "      <td>LORING PLACE NORTH</td>\n",
       "      <td>0.0</td>\n",
       "      <td>...</td>\n",
       "      <td>0</td>\n",
       "      <td>0</td>\n",
       "      <td>0</td>\n",
       "      <td>0</td>\n",
       "      <td>0</td>\n",
       "      <td>Passing or Lane Usage Improper</td>\n",
       "      <td>Unspecified</td>\n",
       "      <td>4647931</td>\n",
       "      <td>ambulance</td>\n",
       "      <td>sedan</td>\n",
       "    </tr>\n",
       "    <tr>\n",
       "      <th>2013637</th>\n",
       "      <td>2023</td>\n",
       "      <td>14:05</td>\n",
       "      <td>QUEENS</td>\n",
       "      <td>11377.0</td>\n",
       "      <td>40.735485</td>\n",
       "      <td>-73.917470</td>\n",
       "      <td>(40.735485, -73.91747)</td>\n",
       "      <td>LAUREL HILL BOULEVARD</td>\n",
       "      <td>49 STREET</td>\n",
       "      <td>0.0</td>\n",
       "      <td>...</td>\n",
       "      <td>0</td>\n",
       "      <td>0</td>\n",
       "      <td>0</td>\n",
       "      <td>0</td>\n",
       "      <td>0</td>\n",
       "      <td>Following Too Closely</td>\n",
       "      <td>Unspecified</td>\n",
       "      <td>4647529</td>\n",
       "      <td>station wagon/sport utility vehicle</td>\n",
       "      <td>ambulance</td>\n",
       "    </tr>\n",
       "    <tr>\n",
       "      <th>2014115</th>\n",
       "      <td>2023</td>\n",
       "      <td>3:30</td>\n",
       "      <td>MANHATTAN</td>\n",
       "      <td>10035.0</td>\n",
       "      <td>40.806408</td>\n",
       "      <td>-73.940160</td>\n",
       "      <td>(40.806408, -73.94016)</td>\n",
       "      <td>MADISON AVENUE</td>\n",
       "      <td>EAST 126 STREET</td>\n",
       "      <td>0.0</td>\n",
       "      <td>...</td>\n",
       "      <td>0</td>\n",
       "      <td>0</td>\n",
       "      <td>0</td>\n",
       "      <td>0</td>\n",
       "      <td>0</td>\n",
       "      <td>View Obstructed/Limited</td>\n",
       "      <td>Driver Inattention/Distraction</td>\n",
       "      <td>4648062</td>\n",
       "      <td>ambulance</td>\n",
       "      <td>station wagon/sport utility vehicle</td>\n",
       "    </tr>\n",
       "    <tr>\n",
       "      <th>2014200</th>\n",
       "      <td>2023</td>\n",
       "      <td>16:15</td>\n",
       "      <td>NaN</td>\n",
       "      <td>NaN</td>\n",
       "      <td>NaN</td>\n",
       "      <td>NaN</td>\n",
       "      <td>NaN</td>\n",
       "      <td>PELHAM PARKWAY NORTH</td>\n",
       "      <td>STILLWELL AVENUE</td>\n",
       "      <td>1.0</td>\n",
       "      <td>...</td>\n",
       "      <td>0</td>\n",
       "      <td>0</td>\n",
       "      <td>0</td>\n",
       "      <td>1</td>\n",
       "      <td>0</td>\n",
       "      <td>Turning Improperly</td>\n",
       "      <td>Unspecified</td>\n",
       "      <td>4647987</td>\n",
       "      <td>ambulance</td>\n",
       "      <td>moped</td>\n",
       "    </tr>\n",
       "  </tbody>\n",
       "</table>\n",
       "<p>10012 rows × 22 columns</p>\n",
       "</div>"
      ],
      "text/plain": [
       "         crash_date crash_time    borough zip_code   latitude  longitude  \\\n",
       "63             2022      21:40     QUEENS  11418.0  40.695156 -73.845406   \n",
       "70             2021      12:00   BROOKLYN  11213.0  40.665375 -73.934235   \n",
       "217            2021       8:30      BRONX  10457.0  40.839443 -73.904360   \n",
       "223            2021      16:07  MANHATTAN  10027.0  40.813885 -73.952110   \n",
       "352            2021       8:00   BROOKLYN  11204.0  40.615780 -73.999950   \n",
       "...             ...        ...        ...      ...        ...        ...   \n",
       "2013502        2023      13:40   BROOKLYN  11201.0  40.691120 -73.997550   \n",
       "2013605        2023      12:30        NaN      NaN        NaN        NaN   \n",
       "2013637        2023      14:05     QUEENS  11377.0  40.735485 -73.917470   \n",
       "2014115        2023       3:30  MANHATTAN  10035.0  40.806408 -73.940160   \n",
       "2014200        2023      16:15        NaN      NaN        NaN        NaN   \n",
       "\n",
       "                        location         on_street_name   cross_street_name  \\\n",
       "63       (40.695156, -73.845406)         JAMAICA AVENUE          102 STREET   \n",
       "70       (40.665375, -73.934235)           CROWN STREET  SCHENECTADY AVENUE   \n",
       "217       (40.839443, -73.90436)                    NaN                 NaN   \n",
       "223       (40.813885, -73.95211)                    NaN                 NaN   \n",
       "352        (40.61578, -73.99995)      BAY RIDGE PARKWAY  NEW UTRECHT AVENUE   \n",
       "...                          ...                    ...                 ...   \n",
       "2013502    (40.69112, -73.99755)                    NaN                 NaN   \n",
       "2013605                      NaN        WEST 183 STREET  LORING PLACE NORTH   \n",
       "2013637   (40.735485, -73.91747)  LAUREL HILL BOULEVARD           49 STREET   \n",
       "2014115   (40.806408, -73.94016)         MADISON AVENUE     EAST 126 STREET   \n",
       "2014200                      NaN   PELHAM PARKWAY NORTH    STILLWELL AVENUE   \n",
       "\n",
       "         number_of_persons_injured  ...  number_of_pedestrians_killed  \\\n",
       "63                             0.0  ...                             0   \n",
       "70                             0.0  ...                             0   \n",
       "217                            0.0  ...                             0   \n",
       "223                            0.0  ...                             0   \n",
       "352                            0.0  ...                             0   \n",
       "...                            ...  ...                           ...   \n",
       "2013502                        0.0  ...                             0   \n",
       "2013605                        0.0  ...                             0   \n",
       "2013637                        0.0  ...                             0   \n",
       "2014115                        0.0  ...                             0   \n",
       "2014200                        1.0  ...                             0   \n",
       "\n",
       "         number_of_cyclist_injured  number_of_cyclist_killed  \\\n",
       "63                               0                         0   \n",
       "70                               0                         0   \n",
       "217                              0                         0   \n",
       "223                              0                         0   \n",
       "352                              0                         0   \n",
       "...                            ...                       ...   \n",
       "2013502                          0                         0   \n",
       "2013605                          0                         0   \n",
       "2013637                          0                         0   \n",
       "2014115                          0                         0   \n",
       "2014200                          0                         0   \n",
       "\n",
       "         number_of_motorist_injured  number_of_motorist_killed  \\\n",
       "63                                0                          0   \n",
       "70                                0                          0   \n",
       "217                               0                          0   \n",
       "223                               0                          0   \n",
       "352                               0                          0   \n",
       "...                             ...                        ...   \n",
       "2013502                           0                          0   \n",
       "2013605                           0                          0   \n",
       "2013637                           0                          0   \n",
       "2014115                           0                          0   \n",
       "2014200                           1                          0   \n",
       "\n",
       "          contributing_factor_vehicle_1   contributing_factor_vehicle_2  \\\n",
       "63       Reaction to Uninvolved Vehicle                     Unspecified   \n",
       "70       Driver Inattention/Distraction  Driver Inattention/Distraction   \n",
       "217                Unsafe Lane Changing                     Unspecified   \n",
       "223                         Unspecified                     Unspecified   \n",
       "352      Driver Inattention/Distraction                     Unspecified   \n",
       "...                                 ...                             ...   \n",
       "2013502                     Unspecified                     Unspecified   \n",
       "2013605  Passing or Lane Usage Improper                     Unspecified   \n",
       "2013637           Following Too Closely                     Unspecified   \n",
       "2014115         View Obstructed/Limited  Driver Inattention/Distraction   \n",
       "2014200              Turning Improperly                     Unspecified   \n",
       "\n",
       "        collision_id                  vehicle_type_code_1  \\\n",
       "63           4521858                            ambulance   \n",
       "70           4485333                                sedan   \n",
       "217          4485668                            ambulance   \n",
       "223          4485696                                sedan   \n",
       "352          4455993                            ambulance   \n",
       "...              ...                                  ...   \n",
       "2013502      4647407                            ambulance   \n",
       "2013605      4647931                            ambulance   \n",
       "2013637      4647529  station wagon/sport utility vehicle   \n",
       "2014115      4648062                            ambulance   \n",
       "2014200      4647987                            ambulance   \n",
       "\n",
       "                         vehicle_type_code_2  \n",
       "63       station wagon/sport utility vehicle  \n",
       "70                                 ambulance  \n",
       "217                                    sedan  \n",
       "223                                ambulance  \n",
       "352                                     bike  \n",
       "...                                      ...  \n",
       "2013502                            ambulance  \n",
       "2013605                                sedan  \n",
       "2013637                            ambulance  \n",
       "2014115  station wagon/sport utility vehicle  \n",
       "2014200                                moped  \n",
       "\n",
       "[10012 rows x 22 columns]"
      ]
     },
     "execution_count": 14,
     "metadata": {},
     "output_type": "execute_result"
    }
   ],
   "source": [
    "df_ambulance = df.query('vehicle_type_code_1==\"ambulance\" or vehicle_type_code_2==\"ambulance\"')\n",
    "df_ambulance"
   ]
  },
  {
   "cell_type": "code",
   "execution_count": 15,
   "metadata": {},
   "outputs": [
    {
     "data": {
      "text/plain": [
       "borough\n",
       "BROOKLYN         2308\n",
       "BRONX            2114\n",
       "MANHATTAN        1962\n",
       "QUEENS           1170\n",
       "STATEN ISLAND     122\n",
       "Name: count, dtype: int64"
      ]
     },
     "execution_count": 15,
     "metadata": {},
     "output_type": "execute_result"
    }
   ],
   "source": [
    "df_ambulance.borough.value_counts()"
   ]
  },
  {
   "cell_type": "code",
   "execution_count": 18,
   "metadata": {},
   "outputs": [
    {
     "name": "stderr",
     "output_type": "stream",
     "text": [
      "C:\\Users\\jss12\\AppData\\Local\\Temp\\ipykernel_11148\\2656597184.py:2: SettingWithCopyWarning: \n",
      "A value is trying to be set on a copy of a slice from a DataFrame.\n",
      "Try using .loc[row_indexer,col_indexer] = value instead\n",
      "\n",
      "See the caveats in the documentation: https://pandas.pydata.org/pandas-docs/stable/user_guide/indexing.html#returning-a-view-versus-a-copy\n",
      "  df_ambulance.crash_time = pd.to_datetime(df_ambulance.crash_time).dt.hour\n"
     ]
    }
   ],
   "source": [
    "# Выделение из времени аварии целого часа\n",
    "df_ambulance.crash_time = pd.to_datetime(df_ambulance.crash_time).dt.hour\n",
    "#df_ambulance.loc[:, 'crash_time'] = df_ambulance.crash_time.str.split(':').str[0]\n",
    "#df_ambulance.crash_time = df_ambulance.crash_time.astype('int')"
   ]
  },
  {
   "cell_type": "code",
   "execution_count": 22,
   "metadata": {},
   "outputs": [
    {
     "data": {
      "text/plain": [
       "<Axes: xlabel='crash_time'>"
      ]
     },
     "execution_count": 22,
     "metadata": {},
     "output_type": "execute_result"
    },
    {
     "data": {
      "image/png": "[encoded data removed]",
      "text/plain": [
       "<Figure size 1000x500 with 1 Axes>"
      ]
     },
     "metadata": {},
     "output_type": "display_data"
    }
   ],
   "source": [
    "plt.figure(figsize=(10,5))\n",
    "plt.xticks([0, 1, 2, 3, 4, 5, 6, 7, 8, 9, 10, 11, 12, 13, 14, 15, 16, 17, 18, 19, 20, 21, 22, 23])\n",
    "sns.lineplot(data = df_ambulance[['crash_time','crash_date']].groupby('crash_time').agg({'crash_date':'count'}).rename(columns={'crash_date':'count_of_crushes', 'crash_time':'crash_hour'}))"
   ]
  },
  {
   "cell_type": "markdown",
   "metadata": {},
   "source": [
    "Чаще всего аварии у скорых случаются в 16 часов, скорее всего это связано с увеличением числа машин в это время."
   ]
  },
  {
   "cell_type": "code",
   "execution_count": null,
   "metadata": {},
   "outputs": [],
   "source": []
  }
 ],
 "metadata": {
  "kernelspec": {
   "display_name": "my_venv",
   "language": "python",
   "name": "python3"
  },
  "language_info": {
   "codemirror_mode": {
    "name": "ipython",
    "version": 3
   },
   "file_extension": ".py",
   "mimetype": "text/x-python",
   "name": "python",
   "nbconvert_exporter": "python",
   "pygments_lexer": "ipython3",
   "version": "3.11.4"
  },
  "orig_nbformat": 4
 },
 "nbformat": 4,
 "nbformat_minor": 2
}
